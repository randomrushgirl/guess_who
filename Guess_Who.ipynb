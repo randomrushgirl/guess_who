{
 "cells": [
  {
   "cell_type": "code",
   "execution_count": 1,
   "id": "2a647620",
   "metadata": {},
   "outputs": [
    {
     "data": {
      "text/html": [
       "<span class=\"glif-stdout\">Successfully imported Grammar.gf</span>"
      ]
     },
     "metadata": {},
     "output_type": "display_data"
    }
   ],
   "source": [
    "abstract Grammar = {\n",
    "    cat\n",
    "        Name;\n",
    "        Adjective;\n",
    "        AP;\n",
    "        S;\n",
    "    fun\n",
    "        adj : Adjective;\n",
    "        makeAP1 : Name -> Adjective -> AP;\n",
    "        makeAP2 : Name -> Adjective -> AP;\n",
    "        makeAP3 : Name -> Adjective -> AP;\n",
    "        makeS1 : Name -> AP -> S;\n",
    "        --makeS2 : Name -> AP -> S;        \n",
    "       -- makeS3 : Name -> AP -> S;\n",
    "        peter : Name;\n",
    "        mary : Name;\n",
    "        fido : Name;\n",
    "        john : Name;\n",
    "        and : AP -> AP -> AP;\n",
    "        \n",
    "}"
   ]
  },
  {
   "cell_type": "code",
   "execution_count": 2,
   "id": "9ac2f0d4",
   "metadata": {},
   "outputs": [
    {
     "data": {
      "text/html": [
       "<span class=\"glif-stdout\">Successfully imported GrammarEng.gf</span>"
      ]
     },
     "metadata": {},
     "output_type": "display_data"
    }
   ],
   "source": [
    "concrete GrammarEng of Grammar = {\n",
    "    param\n",
    "        Gender = Masc | Fem | Neut ;\n",
    "        Hair_Colour = Black | Green | Red;\n",
    "        Wears_Hat = Yes | No;\n",
    "    lincat\n",
    "        Name = {s: Str; g: Gender;hair: Hair_Colour; hat: Wears_Hat};\n",
    "        Adjective = {g: Gender=> Str; color: Hair_Colour => Str; h : Wears_Hat => Str};\n",
    "        S = Str;\n",
    "        AP = Str;\n",
    "    \n",
    "    lin\n",
    "        peter = {s = \"Peter\"; g = Masc; hair = Black; hat = No};\n",
    "        mary = {s = \"Mary\"; g = Fem; hair = Red; hat = Yes};\n",
    "        fido = {s = \"Fido\"; g = Neut; hair = Black; hat = Yes};\n",
    "        john = {s = \"John\"; g = Masc; hair = Green; hat = Yes};\n",
    "        adj  = {\n",
    "            g = table {\n",
    "                Masc => \"is male\";\n",
    "                Fem =>  \"is female\";\n",
    "                Neut => \"is neutral\"\n",
    "            };\n",
    "            color = table {\n",
    "                Black => \"has black hair\";\n",
    "                Red =>  \"has red hair\";\n",
    "                Green => \"has green hair\"\n",
    "            };\n",
    "            h = table {\n",
    "                Yes => \"wears a hat\";\n",
    "                No =>  \"wears no hat\"\n",
    "            }\n",
    "        };\n",
    "        makeAP1 name ap = ap.g ! name.g;\n",
    "        makeAP2 name ap = ap.color ! name.hair;\n",
    "        makeAP3 name ap = ap.h ! name.hat;\n",
    "        and a b = a ++ \"and\" ++ b;\n",
    "        \n",
    "        -- makeS2 name adjphrase = name.s ++ \"has\" ++ name.hair;\n",
    "        -- makeS3 name adjphrase = name.s ++ \"is\" ++ name.gend;\n",
    "        -- makeS4 name adjphrase = name.s ++ \"wears\" ++ name.hat;\n",
    "        \n",
    "        -- to make a sentence, we take the string of a name (`name.s`)\n",
    "        -- and append the matching verb phrase, i.e. we have to look up\n",
    "        -- the right form in the table `vp.s` using the gender `name.g`.\n",
    "        -- the `!` operator is used for the lookup.\n",
    "        \n",
    "        makeS1 name ap = name.s ++ ap;\n",
    "        --makeS2 name ap = name.s ++ ap.color ! name.hair;\n",
    "        --makeS3 name ap = name.s ++ ap.h ! name.hat;\n",
    "}"
   ]
  },
  {
   "cell_type": "code",
   "execution_count": 3,
   "id": "3539af04",
   "metadata": {},
   "outputs": [
    {
     "data": {
      "application/vnd.jupyter.widget-view+json": {
       "model_id": "7336a571833b4b9e8a2847ca9ee124db",
       "version_major": 2,
       "version_minor": 0
      },
      "text/plain": [
       "Dropdown(layout=Layout(width='max-content'), options=('0.0. makeS1 peter (makeAP3 ?2 adj)',), value='0.0. make…"
      ]
     },
     "metadata": {},
     "output_type": "display_data"
    },
    {
     "data": {
      "application/vnd.jupyter.widget-view+json": {
       "model_id": "c9e00429a4fa4755960b0f0607945d61",
       "version_major": 2,
       "version_minor": 0
      },
      "text/plain": [
       "Image(value=b'<?xml version=\"1.0\" encoding=\"UTF-8\" standalone=\"no\"?>\\n<!DOCTYPE svg PUBLIC \"-//W3C//DTD SVG 1.…"
      ]
     },
     "metadata": {},
     "output_type": "display_data"
    }
   ],
   "source": [
    "parse \"Peter wears no hat\"| vt"
   ]
  },
  {
   "cell_type": "code",
   "execution_count": 95,
   "id": "9ecb33ad",
   "metadata": {},
   "outputs": [
    {
     "data": {
      "text/html": [
       "<span class=\"glif-stdout\">Successfully imported plnq.mmt</span>"
      ]
     },
     "metadata": {},
     "output_type": "display_data"
    }
   ],
   "source": [
    "theory plnq : ur:?LF =\n",
    "    prop : type ❘ # o ❙   // type for propositions ❙\n",
    "    // type for individuals (Ethel, Fido, ...) ❙\n",
    "    ind : type ❘ # ι ❙   // ι as notation for ind ❙\n",
    "\n",
    "    and : o ⟶ o ⟶ o ❘ # 1 ∧ 2 ❙\n",
    "❚"
   ]
  },
  {
   "cell_type": "code",
   "execution_count": 96,
   "id": "795530ce",
   "metadata": {},
   "outputs": [
    {
     "data": {
      "text/html": [
       "<span class=\"glif-stdout\">Successfully imported people.mmt</span>"
      ]
     },
     "metadata": {},
     "output_type": "display_data"
    }
   ],
   "source": [
    "theory people : ur:?LF =\n",
    "    include ?plnq ❙\n",
    "\n",
    "    peter : ι ❘ # peter' ❙\n",
    "    mary : ι ❘ # mary' ❙\n",
    "    fido : ι ❘ # fido' ❙\n",
    "    john : ι ❘ # john' ❙\n",
    "❚"
   ]
  },
  {
   "cell_type": "code",
   "execution_count": 111,
   "id": "52d60288",
   "metadata": {},
   "outputs": [
    {
     "data": {
      "text/html": [
       "\n",
       "<br/><span class=\"glif-stderr\"><b>Errors</b><br/>invalid unit: http://mathhub.info/tmpGLIF/default?GrammarSemantics?[http://mathhub.info/tmpGLIF/default/Grammar.gf?Grammar]/makeAP1?definition: Judgment  |- [adj:ι⟶o]adj : ι⟶((ι⟶o)⟶(ι⟶o))<br/>invalid unit: http://mathhub.info/tmpGLIF/default?GrammarSemantics?[http://mathhub.info/tmpGLIF/default/Grammar.gf?Grammar]/makeAP1?definition: Judgment  |- [adj:ι⟶o]adj : ι⟶((ι⟶o)⟶(ι⟶o))<br/>invalid unit: http://mathhub.info/tmpGLIF/default?GrammarSemantics?[http://mathhub.info/tmpGLIF/default/Grammar.gf?Grammar]/makeAP2?definition: Judgment  |- [adj:ι⟶o]adj : ι⟶((ι⟶o)⟶(ι⟶o))<br/>invalid unit: http://mathhub.info/tmpGLIF/default?GrammarSemantics?[http://mathhub.info/tmpGLIF/default/Grammar.gf?Grammar]/makeAP2?definition: Judgment  |- [adj:ι⟶o]adj : ι⟶((ι⟶o)⟶(ι⟶o))<br/>invalid unit: http://mathhub.info/tmpGLIF/default?GrammarSemantics?[http://mathhub.info/tmpGLIF/default/Grammar.gf?Grammar]/makeAP3?definition: Judgment  |- [adj:ι⟶o]adj : ι⟶((ι⟶o)⟶(ι⟶o))<br/>invalid unit: http://mathhub.info/tmpGLIF/default?GrammarSemantics?[http://mathhub.info/tmpGLIF/default/Grammar.gf?Grammar]/makeAP3?definition: Judgment  |- [adj:ι⟶o]adj : ι⟶((ι⟶o)⟶(ι⟶o))<br/>invalid element: view is not total: http://mathhub.info/tmpGLIF/default?GrammarSemantics</span>"
      ]
     },
     "metadata": {},
     "output_type": "display_data"
    }
   ],
   "source": [
    "view GrammarSemantics : http://mathhub.info/tmpGLIF/default/Grammar.gf?Grammar -> ?people =\n",
    "    Name = ι ❙\n",
    "    Adjective = o ❙\n",
    "    AP = ι ⟶ o❙\n",
    "    S = o ❙\n",
    "\n",
    "    // makeAP1 : Name ⟶ Adjective ⟶ AP ❙\n",
    "    // makeAP1 : ι ⟶ (ι ⟶ o) ⟶ o ❙\n",
    "    makeAP1 = [adj:ι⟶ o] adj ❙\n",
    "    // makeAP2 : Name ⟶ Adjective ⟶ AP ❙\n",
    "    // makeAP2 : ι ⟶ (ι ⟶ o) ⟶ o ❙\n",
    "    makeAP2 = [adj:ι⟶ o] adj  ❙\n",
    "    // makeAP3 : Name ⟶ Adjective ⟶ AP ❙\n",
    "    // makeAP3 : ι ⟶ (ι ⟶ o) ⟶ o ❙\n",
    "    makeAP3 = [adj:ι⟶ o] adj ❙\n",
    "    // makeS : Name ⟶ VP ⟶ S ❙\n",
    "    makeS1 = [n:ι][ap:ι ⟶ o] ap n ❙\n",
    "\n",
    "    peter = peter' ❙\n",
    "    mary = mary' ❙\n",
    "    fido = fido' ❙\n",
    "    john = john' ❙\n",
    "    // love_oneself : ReflexiveVerb ❙\n",
    "    // love_oneself : ι ⟶ ι ⟶ o ❙\n",
    "    // love_oneself = [x:ι] [y:ι] love' x y ❙\n",
    "    \n",
    "    // and = [a] [b] a ∧ b ❙\n",
    "❚"
   ]
  },
  {
   "cell_type": "code",
   "execution_count": null,
   "id": "57c81a18",
   "metadata": {},
   "outputs": [],
   "source": []
  }
 ],
 "metadata": {
  "kernelspec": {
   "display_name": "GLIF",
   "language": "glif",
   "name": "glif"
  },
  "language_info": {
   "file_extension": ".glif",
   "mimetype": "text/glif",
   "name": "GLIF"
  }
 },
 "nbformat": 4,
 "nbformat_minor": 5
}
